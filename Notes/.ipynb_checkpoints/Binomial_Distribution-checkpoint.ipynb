{
 "cells": [
  {
   "cell_type": "code",
   "execution_count": 1,
   "metadata": {
    "colab": {
     "base_uri": "https://localhost:8080/",
     "height": 34
    },
    "id": "nY7v40dou92T",
    "outputId": "eab6334a-7dc5-44b5-dd96-327b060ead83"
   },
   "outputs": [
    {
     "name": "stdout",
     "output_type": "stream",
     "text": [
      "Hello! Welcome to my statistics and probability notes for my Highschool class\n"
     ]
    }
   ],
   "source": [
    "print(\"Hello! Welcome to my statistics and probability notes for my Highschool class\")"
   ]
  },
  {
   "cell_type": "markdown",
   "metadata": {
    "id": "Jyj3iCRXvB1u"
   },
   "source": [
    "#Binomial Distribution\n",
    "For Binomial distribution, look into your parameters, usually you have $n$ as your sample size, $p$ as your probabilty of the some event happening and $x$ is a random variable with value ranging from $0 - n$. The definition of $p(x)$ is -\n",
    "$$p(x) = \\binom{n}{x} p^x (1-p)^{n-x}$$\n",
    "Here, $$\\binom{n}{x} = \\frac{n!}{x!(n-x)!}$$\n",
    "$p(x)$ is the probability of the event happening for discrete random variable $x$\n",
    "\n",
    "And here the mean is,\n",
    "$$\\mu = np$$\n",
    "\n",
    "In math problems you may be given any 2 of these values so that you can compute the other. The $p(x)$ value can also be derived from a Binomial Distribution table.\n",
    ">***Google is your friend if you want that***.\n",
    "But in these notes we have a more computational focus so we do not need that.\n",
    "\n",
    "\n",
    "<!-- $$\\sum_{x=0}^{n}{xp(x)}$$\n",
    "\n",
    "$$z=\\frac{x-\\mu}{\\sigma}$$\n",
    "\n",
    "Standard error = \n",
    "$${\\sigma_{\\overline{x}}} = {\\frac{\\sigma_{x}}{\\sqrt{n}}}$$\n",
    "\n",
    "Margin of error = \n",
    "$$\\pm1.96{\\sigma_{\\overline{x}}}$$ -->"
   ]
  },
  {
   "cell_type": "code",
   "execution_count": 3,
   "metadata": {
    "id": "Kf24zFo_vj2o"
   },
   "outputs": [],
   "source": [
    "#lets import some libraries\n",
    "# Do not forget to run this cell before running other cells\n",
    "import math\n",
    "from math import factorial as fac"
   ]
  },
  {
   "cell_type": "code",
   "execution_count": 4,
   "metadata": {
    "id": "sAo3OFg3PKZZ"
   },
   "outputs": [],
   "source": [
    "#binomial probability function\n",
    "def binprob(n, x, p):\n",
    "  return (fac(n)/(fac(x)*fac(n-x)))*(p**x)*((1-p)**(n-x))"
   ]
  },
  {
   "cell_type": "markdown",
   "metadata": {
    "id": "6fN5KfuyP_KE"
   },
   "source": [
    "Imagine we know that 79% of people are unemployed during the time of quarantine. We take a random sample of 10 people. What is the probability that 2 people are unemployed?<br/><br/>\n",
    "if you observe the given parameters, we have been given $p = (79/100) = 0.79$ and $n = 10$. Find $p(x)$ for $x=2$<br/>\n",
    "Let's compute it with our code,"
   ]
  },
  {
   "cell_type": "code",
   "execution_count": 5,
   "metadata": {
    "colab": {
     "base_uri": "https://localhost:8080/",
     "height": 34
    },
    "id": "ttPeA-pDP-Aw",
    "outputId": "18fb0130-cade-4949-ea9f-ef695380e78d"
   },
   "outputs": [
    {
     "data": {
      "text/plain": [
       "0.00010622360937240032"
      ]
     },
     "execution_count": 5,
     "metadata": {
      "tags": []
     },
     "output_type": "execute_result"
    }
   ],
   "source": [
    "binprob(10, 2, 0.79)"
   ]
  },
  {
   "cell_type": "markdown",
   "metadata": {
    "id": "XE-x_StHRhqa"
   },
   "source": [
    "Now what if the asked us to find the probability of at most 3 people being unemployed?\n",
    "We'll need to compute,\n",
    "$$\\sum_{x=0}^{3}p(x)$$\n",
    "If it was at least 3 people? We'll need\n",
    "$$p(x\\geq3) = \\sum_{x=3}^{n}p(x)$$\n",
    "Alternative way is,\n",
    "$$p(x\\geq3) = 1-\\sum_{x=0}^{2}p(x)$$\n",
    "Let's do the last two with code and proof it's correctness."
   ]
  },
  {
   "cell_type": "code",
   "execution_count": 6,
   "metadata": {
    "id": "fWohvSkjRgjL"
   },
   "outputs": [],
   "source": [
    "#sum of p(x) from 3 to n\n",
    "n = 10\n",
    "p = 0.79\n",
    "result1 = 0\n",
    "result2 = 0\n",
    "for x in range(3,n+1):\n",
    "  result1 += binprob(n, x, p)\n",
    "for x in range(0,3):\n",
    "  result2 += binprob(n, x, p)\n",
    "result2 = 1 - result2"
   ]
  },
  {
   "cell_type": "code",
   "execution_count": 7,
   "metadata": {
    "colab": {
     "base_uri": "https://localhost:8080/",
     "height": 34
    },
    "id": "ulKyJtBHTzDo",
    "outputId": "a8dda04e-87f8-4c3e-fd79-9b6061e40bf6"
   },
   "outputs": [
    {
     "data": {
      "text/plain": [
       "True"
      ]
     },
     "execution_count": 7,
     "metadata": {
      "tags": []
     },
     "output_type": "execute_result"
    }
   ],
   "source": [
    "result1 == result2"
   ]
  },
  {
   "cell_type": "markdown",
   "metadata": {
    "id": "KE_ENZeST-N_"
   },
   "source": [
    "As you can see, it is indeed a True statement. Now let's compute the mean. Both computationally and with formula. Computationally the mean is the same as discrete random variables.\n",
    "$$\\mu = \\sum_{x=0}^{n}xp(x)$$"
   ]
  },
  {
   "cell_type": "code",
   "execution_count": 11,
   "metadata": {
    "id": "dH5S0IMGT8dr"
   },
   "outputs": [],
   "source": [
    "def mean_binom(n, p):\n",
    "  mean = 0\n",
    "  for x in range(0, n+1):\n",
    "    mean += x*binprob(n,x,p)\n",
    "  return mean"
   ]
  },
  {
   "cell_type": "code",
   "execution_count": 14,
   "metadata": {
    "id": "QS0Rm5oHV2gc"
   },
   "outputs": [],
   "source": [
    "mean1 = mean_binom(n,p)\n",
    "mean2 = n*p"
   ]
  },
  {
   "cell_type": "code",
   "execution_count": 15,
   "metadata": {
    "colab": {
     "base_uri": "https://localhost:8080/",
     "height": 34
    },
    "id": "u95VkSaTWH5C",
    "outputId": "6296c738-5d22-44a6-cc1a-837785c11934"
   },
   "outputs": [
    {
     "data": {
      "text/plain": [
       "True"
      ]
     },
     "execution_count": 15,
     "metadata": {
      "tags": []
     },
     "output_type": "execute_result"
    }
   ],
   "source": [
    "mean1==mean2"
   ]
  },
  {
   "cell_type": "markdown",
   "metadata": {
    "id": "rwR4IVkTZIns"
   },
   "source": [
    "Here is a Hackerrank problem [Binomial Distribution I](https://www.hackerrank.com/challenges/s10-binomial-distribution-1/problem?h_r=internal-search). Let's solve it using the tools we just developed."
   ]
  },
  {
   "cell_type": "code",
   "execution_count": 17,
   "metadata": {
    "id": "LnJhy5PJZ2PM"
   },
   "outputs": [],
   "source": [
    "# 1.09*100 + 1*100 = 209. 109/209 = 0.52153110047\n",
    "p = 0.52153110047\n",
    "n = 6\n",
    "total = 0\n",
    "for i in range(3,n+1):\n",
    "  total += binprob(n,i,p)"
   ]
  },
  {
   "cell_type": "code",
   "execution_count": 20,
   "metadata": {
    "colab": {
     "base_uri": "https://localhost:8080/",
     "height": 34
    },
    "id": "jin5tArvauga",
    "outputId": "7c84fcd3-71a8-4bfa-c18e-3c49b4ee69a1"
   },
   "outputs": [
    {
     "data": {
      "text/plain": [
       "0.696"
      ]
     },
     "execution_count": 20,
     "metadata": {
      "tags": []
     },
     "output_type": "execute_result"
    }
   ],
   "source": [
    "#this is the answer, in HackerRank just print the answer\n",
    "round(total,3)"
   ]
  }
 ],
 "metadata": {
  "colab": {
   "collapsed_sections": [],
   "name": "Binomial_Distribution.ipynb",
   "provenance": []
  },
  "kernelspec": {
   "display_name": "Python 3",
   "language": "python",
   "name": "python3"
  },
  "language_info": {
   "codemirror_mode": {
    "name": "ipython",
    "version": 3
   },
   "file_extension": ".py",
   "mimetype": "text/x-python",
   "name": "python",
   "nbconvert_exporter": "python",
   "pygments_lexer": "ipython3",
   "version": "3.8.2"
  }
 },
 "nbformat": 4,
 "nbformat_minor": 1
}
