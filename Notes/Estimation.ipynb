{
 "cells": [
  {
   "cell_type": "code",
   "execution_count": 3,
   "metadata": {},
   "outputs": [
    {
     "name": "stdout",
     "output_type": "stream",
     "text": [
      "Estimation\n"
     ]
    }
   ],
   "source": [
    "print(\"Estimation\")"
   ]
  },
  {
   "cell_type": "markdown",
   "metadata": {},
   "source": [
    "# Estimation\n",
    "So this is about estimation. Pretty interesting topic and gave me a hard time when I first learned it. <br/>\n",
    "Estimation is a method in which numerical values are assigned to population parameter based on data collected from samples. Mean is one of the examples of such parameters. <br/>\n",
    "The sample values that are used to estimate a population parameter are called ***point estimates***. The following point estimates are pretty important. Sample standard deviation $s$ is a point estimate of population standard deviation $\\sigma$, $\\overline{x}$ is a point estimate of population mean $\\mu$, sample variance is $s^2$ is point estimate of $\\mu^2$ etc."
   ]
  },
  {
   "cell_type": "markdown",
   "metadata": {},
   "source": [
    "### Margin of Error\n",
    "When we estimate the population parameters, there will always be inaccuracies. That is called the margin of error. For the estimation of population mean, the margin of error is as below,\n",
    "$$MoE = \\pm1.96{\\sigma_{\\overline{x}}}$$\n",
    "$$MoE = \\pm1.96{s_{\\overline{x}}}$$"
   ]
  },
  {
   "cell_type": "markdown",
   "metadata": {},
   "source": [
    "The formula to compute $\\sigma_{\\overline{x}}$ is as follows,\n",
    "$$\\sigma_{\\overline{x}} = \\frac{\\sigma}{\\sqrt{n}}$$\n",
    "Where $n$ is sample size"
   ]
  },
  {
   "cell_type": "markdown",
   "metadata": {},
   "source": [
    "### Interval Estimate\n",
    "Sometimes you may encounter news articles where they say \"Random source has reported number of based men in a city is 10 to 17%. This is an interval estimate, where they estimate a range of values.\n",
    "### Confidence Interval and Level\n",
    "You may make an educated guess about something, but how correct is your assumption? Are you confident about it? Confidence level simply means how confident are you about you assumption? I'm 100% certain I'm dumb, so my confidence level is 100%. When you make an interval estimate with confidence level, it's called a confidence interval."
   ]
  },
  {
   "cell_type": "markdown",
   "metadata": {},
   "source": [
    "### Constructing Confidence Intervals\n",
    "Suppose you want to construct a 95% confindece interval about something. So your $\\alpha$ value would be 5%. If your sample size is small ($n<=30$) we use,\n",
    "$$(1-\\alpha)100\\% = \\overline{x}\\pm t_{\\frac{\\alpha}{2}, n-1}s_{\\overline{x}}$$\n",
    "Otherwise,\n",
    "$$(1-\\alpha)100\\% = \\overline{x}\\pm z_{\\frac{\\alpha}{2}}\\sigma_{\\overline{x}}$$"
   ]
  },
  {
   "cell_type": "markdown",
   "metadata": {},
   "source": [
    "Suppose, they randomly selected 25 students from a school. Their average age is 23.2, standard deviation is 2 years. Create a 95% Confidence inteval."
   ]
  },
  {
   "cell_type": "markdown",
   "metadata": {},
   "source": [
    "Let's make is easier with code. Also we need to calculate the t value using t-distribution table."
   ]
  },
  {
   "cell_type": "code",
   "execution_count": 9,
   "metadata": {},
   "outputs": [],
   "source": [
    "def confidence_interval(mean, tValue, standardError):\n",
    "    ans = []\n",
    "    ans.append(mean - tValue*standardError)\n",
    "    ans.append(mean + tValue*standardError)\n",
    "    return ans"
   ]
  },
  {
   "cell_type": "code",
   "execution_count": 10,
   "metadata": {},
   "outputs": [
    {
     "data": {
      "text/plain": [
       "[22.374399999999998, 24.0256]"
      ]
     },
     "execution_count": 10,
     "metadata": {},
     "output_type": "execute_result"
    }
   ],
   "source": [
    "confidence_interval(23.2, 2.064, 0.4)"
   ]
  },
  {
   "cell_type": "markdown",
   "metadata": {},
   "source": [
    "Sometime you may be given proportion instead of mean, you may have to construct confidence interval for $\\hat{p}$ where\n",
    "$$(1-\\alpha)100\\% = \\hat{p}\\pm z_{\\frac{\\alpha}{2}}s_{\\hat{p}}$$\n",
    "and,\n",
    "$$s_\\hat{p} = \\sqrt{\\frac{\\hat{p}\\hat{q}}{n}}$$\n",
    "Where, $\\hat{p}$ is the sample proportion and $\\hat{q}$ is $1 - \\hat{p}$"
   ]
  },
  {
   "cell_type": "markdown",
   "metadata": {},
   "source": [
    "Imagine 54 out of 150 houses have Air Conditioning. So find the 90% confidence interval"
   ]
  },
  {
   "cell_type": "code",
   "execution_count": 18,
   "metadata": {},
   "outputs": [],
   "source": [
    "import math\n",
    "p = 54/150\n",
    "q = 1 - p\n",
    "n = 150\n",
    "s = math.sqrt((p*q/n))\n",
    "z = 1.6449 #from normal distribution table for percentages(Search online?)"
   ]
  },
  {
   "cell_type": "code",
   "execution_count": 19,
   "metadata": {},
   "outputs": [],
   "source": [
    "def p_confidence_interval(p, z, s):\n",
    "    ans = []\n",
    "    ans.append(p-z*s)\n",
    "    ans.append(p+z*s)\n",
    "    return ans"
   ]
  },
  {
   "cell_type": "code",
   "execution_count": 20,
   "metadata": {},
   "outputs": [
    {
     "data": {
      "text/plain": [
       "[0.2955333491535352, 0.4244666508464648]"
      ]
     },
     "execution_count": 20,
     "metadata": {},
     "output_type": "execute_result"
    }
   ],
   "source": [
    "p_confidence_interval(p,z,s)"
   ]
  },
  {
   "cell_type": "code",
   "execution_count": null,
   "metadata": {},
   "outputs": [],
   "source": []
  }
 ],
 "metadata": {
  "kernelspec": {
   "display_name": "Python 3",
   "language": "python",
   "name": "python3"
  },
  "language_info": {
   "codemirror_mode": {
    "name": "ipython",
    "version": 3
   },
   "file_extension": ".py",
   "mimetype": "text/x-python",
   "name": "python",
   "nbconvert_exporter": "python",
   "pygments_lexer": "ipython3",
   "version": "3.8.2"
  }
 },
 "nbformat": 4,
 "nbformat_minor": 4
}
