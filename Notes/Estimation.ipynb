{
 "cells": [
  {
   "cell_type": "code",
   "execution_count": 3,
   "metadata": {},
   "outputs": [
    {
     "name": "stdout",
     "output_type": "stream",
     "text": [
      "Estimation\n"
     ]
    }
   ],
   "source": [
    "print(\"Estimation\")"
   ]
  },
  {
   "cell_type": "markdown",
   "metadata": {},
   "source": [
    "# Estimation\n",
    "So this is about estimation. Pretty interesting topic and gave me a hard time when I first learned it. <br/>\n",
    "Estimation is a method in which numerical values are assigned to population parameter based on data collected from samples. Mean is one of the examples of such parameters. <br/>\n",
    "The sample values that are used to estimate a population parameter are called ***point estimates***. The following point estimates are pretty important. Sample standard deviation $s$ is a point estimate of population standard deviation $\\sigma$, $\\overline{x}$ is a point estimate of population mean $\\mu$, sample variance is $s^2$ is point estimate of $\\mu^2$ etc."
   ]
  },
  {
   "cell_type": "markdown",
   "metadata": {},
   "source": [
    "### Margin of Error\n",
    "When we estimate the population parameters, there will always be inaccuracies. That is called the margin of error. For the estimation of population mean, the margin of error is as below,\n",
    "$$MoE = \\pm1.96{\\sigma_{\\overline{x}}}$$\n",
    "$$MoE = \\pm1.96{s_{\\overline{x}}}$$"
   ]
  },
  {
   "cell_type": "markdown",
   "metadata": {},
   "source": [
    "The formula to compute $\\sigma_{\\overline{x}}$ is as follows,\n",
    "$$\\sigma_{\\overline{x}} = \\frac{\\sigma}{\\sqrt{n}}$$\n",
    "Where $n$ is sample size"
   ]
  },
  {
   "cell_type": "markdown",
   "metadata": {},
   "source": [
    "### Interval Estimate\n",
    "Sometimes you may encounter news articles where they say \"Random source has reported number of based men in a city is 10 to 17%. This is an interval estimate, where they estimate a range of values.\n",
    "### Confidence Interval and Level\n",
    "You may make an educated guess about something, but how correct is your assumption? Are you confident about it? Confidence level simply means how confident are you about you assumption? I'm 100% certain I'm dumb, so my confidence level is 100%. When you make an interval estimate with confidence level, it's called a confidence interval."
   ]
  },
  {
   "cell_type": "markdown",
   "metadata": {},
   "source": [
    "### Constructing Confidence Intervals\n",
    "Suppose you want to construct a 95% confindece interval about something. So your $\\alpha$ value would be 5%. If your sample size is small ($n<=30$) we use,\n",
    "$$(1-\\alpha)100\\% = \\overline{x}\\pm t_{\\frac{\\alpha}{2}, n-1}s_{\\overline{x}}$$\n",
    "Otherwise,\n",
    "$$(1-\\alpha)100\\% = \\overline{x}\\pm z_{\\frac{\\alpha}{2}}\\sigma_{\\overline{x}}$$"
   ]
  },
  {
   "cell_type": "markdown",
   "metadata": {},
   "source": [
    "Suppose, they randomly selected 25 students from a school. Their average age is 23.2, standard deviation is 2 years. Create a 95% Confidence inteval."
   ]
  },
  {
   "cell_type": "markdown",
   "metadata": {},
   "source": [
    "Let's make is easier with code. Also we need to calculate the t value using t-distribution table."
   ]
  },
  {
   "cell_type": "code",
   "execution_count": 68,
   "metadata": {},
   "outputs": [],
   "source": [
    "def confidence_interval(mean, tValue, standardError):\n",
    "    return [(mean - tValue*standardError),(mean + tValue*standardError)]"
   ]
  },
  {
   "cell_type": "code",
   "execution_count": 69,
   "metadata": {},
   "outputs": [
    {
     "data": {
      "text/plain": [
       "[22.374399999999998, 24.0256]"
      ]
     },
     "execution_count": 69,
     "metadata": {},
     "output_type": "execute_result"
    }
   ],
   "source": [
    "confidence_interval(23.2, 2.064, 0.4)"
   ]
  },
  {
   "cell_type": "markdown",
   "metadata": {},
   "source": [
    "Sometime you may be given proportion instead of mean, you may have to construct confidence interval for $\\hat{p}$ where\n",
    "$$(1-\\alpha)100\\% = \\hat{p}\\pm z_{\\frac{\\alpha}{2}}s_{\\hat{p}}$$\n",
    "and,\n",
    "$$s_\\hat{p} = \\sqrt{\\frac{\\hat{p}\\hat{q}}{n}}$$\n",
    "Where, $\\hat{p}$ is the sample proportion and $\\hat{q}$ is $1 - \\hat{p}$"
   ]
  },
  {
   "cell_type": "markdown",
   "metadata": {},
   "source": [
    "Imagine 54 out of 150 houses have Air Conditioning. So find the 90% confidence interval"
   ]
  },
  {
   "cell_type": "code",
   "execution_count": 55,
   "metadata": {},
   "outputs": [],
   "source": [
    "import math\n",
    "p = 54/150\n",
    "q = 1 - p\n",
    "n = 150\n",
    "s = math.sqrt((p*q/n))\n",
    "z = 1.6449 #from normal distribution table for percentages(Search online?)"
   ]
  },
  {
   "cell_type": "code",
   "execution_count": 56,
   "metadata": {},
   "outputs": [],
   "source": [
    "def p_confidence_interval(p, z, s):\n",
    "    ans = []\n",
    "    ans.append(p-z*s)\n",
    "    ans.append(p+z*s)\n",
    "    return ans"
   ]
  },
  {
   "cell_type": "code",
   "execution_count": 57,
   "metadata": {},
   "outputs": [
    {
     "data": {
      "text/plain": [
       "[0.2955333491535352, 0.4244666508464648]"
      ]
     },
     "execution_count": 57,
     "metadata": {},
     "output_type": "execute_result"
    }
   ],
   "source": [
    "p_confidence_interval(p,z,s)"
   ]
  },
  {
   "cell_type": "markdown",
   "metadata": {},
   "source": [
    "### Maximum Error and determination of Sample Size\n",
    "Maximum error is the estimation that the margin of error will not exceed a specified value on some confidence level. We can often used this to find a suitable sample size to run experiments on, and getting desired results.\n",
    "$$E = z_{\\frac{\\alpha}{2}}\\frac{\\sigma}{\\sqrt{n}}$$\n",
    "And sample size $n$ would be $$n = (\\frac{{z_{\\frac{\\alpha}{2}}}\\sigma}{E})^2$$\n"
   ]
  },
  {
   "cell_type": "markdown",
   "metadata": {},
   "source": [
    "### Determination of the Sample Size for the Interval Estimation of Proportion\n",
    "Sometimes we might be given a proportion from which we need to find the ideal sample size. In such cases the sample size $n$ is,\n",
    "$$n = \\frac{(z_{\\frac{\\alpha}{2}})^2 pq}{E^2}$$"
   ]
  },
  {
   "cell_type": "markdown",
   "metadata": {},
   "source": [
    "### Personal working\n",
    "Below here are my personal workings for homework and study. You can ignore these."
   ]
  },
  {
   "cell_type": "code",
   "execution_count": 60,
   "metadata": {},
   "outputs": [],
   "source": [
    "import math\n",
    "from math import sqrt\n",
    "def standard_error(stdev, n):\n",
    "    return stdev/sqrt(n)"
   ]
  },
  {
   "cell_type": "code",
   "execution_count": 6,
   "metadata": {},
   "outputs": [],
   "source": [
    "stdev = 16.131404843417148\n",
    "tValue = 2.262\n",
    "mean = 97.0\n",
    "n = 10\n",
    "stderr = standard_error(stdev, n)"
   ]
  },
  {
   "cell_type": "code",
   "execution_count": 39,
   "metadata": {},
   "outputs": [
    {
     "data": {
      "text/plain": [
       "426.6971715672437"
      ]
     },
     "execution_count": 39,
     "metadata": {},
     "output_type": "execute_result"
    }
   ],
   "source": [
    "E = 0.234\n",
    "z = 1.8808\n",
    "stdev = 2.57\n",
    "n = ((z*stdev)/E)**2\n",
    "n"
   ]
  },
  {
   "cell_type": "code",
   "execution_count": 40,
   "metadata": {},
   "outputs": [],
   "source": [
    "n = 175\n",
    "z = 2.1701\n",
    "E = z*(stdev/sqrt(n))"
   ]
  },
  {
   "cell_type": "code",
   "execution_count": 41,
   "metadata": {},
   "outputs": [
    {
     "data": {
      "text/plain": [
       "0.42159344127894455"
      ]
     },
     "execution_count": 41,
     "metadata": {},
     "output_type": "execute_result"
    }
   ],
   "source": [
    "E"
   ]
  },
  {
   "cell_type": "code",
   "execution_count": 51,
   "metadata": {},
   "outputs": [],
   "source": [
    "p = 0.73\n",
    "q = 1-p\n",
    "z = 2.0537\n",
    "E = 0.026"
   ]
  },
  {
   "cell_type": "code",
   "execution_count": 52,
   "metadata": {},
   "outputs": [
    {
     "data": {
      "text/plain": [
       "1229.741797779586"
      ]
     },
     "execution_count": 52,
     "metadata": {},
     "output_type": "execute_result"
    }
   ],
   "source": [
    "((z**2)*p*q)/E**2"
   ]
  },
  {
   "cell_type": "code",
   "execution_count": 46,
   "metadata": {},
   "outputs": [
    {
     "data": {
      "text/plain": [
       "0.1971"
      ]
     },
     "execution_count": 46,
     "metadata": {},
     "output_type": "execute_result"
    }
   ],
   "source": []
  },
  {
   "cell_type": "code",
   "execution_count": 49,
   "metadata": {},
   "outputs": [
    {
     "data": {
      "text/plain": [
       "1208.2797070695267"
      ]
     },
     "execution_count": 49,
     "metadata": {},
     "output_type": "execute_result"
    }
   ],
   "source": []
  },
  {
   "cell_type": "code",
   "execution_count": 63,
   "metadata": {},
   "outputs": [
    {
     "data": {
      "text/plain": [
       "14.9899"
      ]
     },
     "execution_count": 63,
     "metadata": {},
     "output_type": "execute_result"
    }
   ],
   "source": [
    "59.9596/sqrt(16)"
   ]
  },
  {
   "cell_type": "code",
   "execution_count": 2,
   "metadata": {},
   "outputs": [
    {
     "data": {
      "text/plain": [
       "837.462128"
      ]
     },
     "execution_count": 2,
     "metadata": {},
     "output_type": "execute_result"
    }
   ],
   "source": [
    "717.6+43.178*2.776"
   ]
  },
  {
   "cell_type": "code",
   "execution_count": 3,
   "metadata": {},
   "outputs": [
    {
     "data": {
      "text/plain": [
       "597.737872"
      ]
     },
     "execution_count": 3,
     "metadata": {},
     "output_type": "execute_result"
    }
   ],
   "source": [
    "717.6-43.178*2.776"
   ]
  },
  {
   "cell_type": "code",
   "execution_count": 71,
   "metadata": {},
   "outputs": [
    {
     "data": {
      "text/plain": [
       "[175.98803759999998, 259.2119624]"
      ]
     },
     "execution_count": 71,
     "metadata": {},
     "output_type": "execute_result"
    }
   ],
   "source": [
    "confidence_interval(217.6, 2.776 ,14.9899)"
   ]
  },
  {
   "cell_type": "code",
   "execution_count": null,
   "metadata": {},
   "outputs": [],
   "source": []
  }
 ],
 "metadata": {
  "kernelspec": {
   "display_name": "Python 3",
   "language": "python",
   "name": "python3"
  },
  "language_info": {
   "codemirror_mode": {
    "name": "ipython",
    "version": 3
   },
   "file_extension": ".py",
   "mimetype": "text/x-python",
   "name": "python",
   "nbconvert_exporter": "python",
   "pygments_lexer": "ipython3",
   "version": "3.8.2"
  }
 },
 "nbformat": 4,
 "nbformat_minor": 4
}
