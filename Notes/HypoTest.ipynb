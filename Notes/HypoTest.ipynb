{
 "cells": [
  {
   "cell_type": "markdown",
   "metadata": {},
   "source": [
    "### Mean\n",
    "Here,\n",
    "One population mean for small,\n",
    "$$t = \\frac{\\overline{x}-\\mu_0}{\\sigma/\\sqrt{n}}$$\n",
    "and,\n",
    "$$t_{\\alpha,n-1}$$\n",
    "One population mean for big,\n",
    "$$z = \\frac{\\overline{x}-\\mu_0}{s/\\sqrt{n}}$$\n",
    "and,\n",
    "$$z_{\\alpha}$$"
   ]
  },
  {
   "cell_type": "markdown",
   "metadata": {},
   "source": [
    "### Proportion\n",
    "One population,\n",
    "$$z = \\frac{\\hat{p}-p_0}{\\sqrt{p_0(1-p_0)/n}}$$\n",
    "and,\n",
    "$$\\hat{p} = \\frac{x}{n}$$\n",
    "Two population,\n",
    "$$z = \\frac{(\\hat{p_1}-\\hat{p_2}) - (p_1 - p_2)}{\\sqrt{\\hat{p_p}(1-\\hat{p_p})}\\sqrt{\\frac{1}{n_1}+\\frac{1}{n_2}}}$$\n",
    "\n",
    "and,\n",
    "$$\\hat{p_p} = \\frac{x_1+x_2}{n_1+n_2}$$"
   ]
  },
  {
   "cell_type": "code",
   "execution_count": 1,
   "metadata": {},
   "outputs": [
    {
     "data": {
      "text/plain": [
       "0.35298770516832456"
      ]
     },
     "execution_count": 1,
     "metadata": {},
     "output_type": "execute_result"
    }
   ],
   "source": [
    "import math\n",
    "from math import sqrt\n",
    "(0.5312-0.5)/sqrt((0.5*0.5)/32)"
   ]
  },
  {
   "cell_type": "code",
   "execution_count": 2,
   "metadata": {},
   "outputs": [
    {
     "data": {
      "text/plain": [
       "0.05"
      ]
     },
     "execution_count": 2,
     "metadata": {},
     "output_type": "execute_result"
    }
   ],
   "source": [
    "7/140"
   ]
  },
  {
   "cell_type": "code",
   "execution_count": 3,
   "metadata": {},
   "outputs": [
    {
     "data": {
      "text/plain": [
       "0.06"
      ]
     },
     "execution_count": 3,
     "metadata": {},
     "output_type": "execute_result"
    }
   ],
   "source": [
    "9/150"
   ]
  },
  {
   "cell_type": "code",
   "execution_count": 4,
   "metadata": {},
   "outputs": [
    {
     "data": {
      "text/plain": [
       "-0.37326167397056936"
      ]
     },
     "execution_count": 4,
     "metadata": {},
     "output_type": "execute_result"
    }
   ],
   "source": [
    "(0.05 - 0.06)/(sqrt(0.055*(1-0.055))*sqrt((1/140)+(1/150)))"
   ]
  },
  {
   "cell_type": "markdown",
   "metadata": {},
   "source": [
    "### Two population mean\n",
    "$$\\frac{(\\overline{x_1}-\\overline{x_1}) - (\\mu_1 - \\mu_2)}{\\sqrt{\\frac{\\sigma_1^2}{n_1}+\\frac{\\sigma_2^2}{n_2}}}$$"
   ]
  },
  {
   "cell_type": "code",
   "execution_count": 5,
   "metadata": {},
   "outputs": [
    {
     "data": {
      "text/plain": [
       "6.836126258505046"
      ]
     },
     "execution_count": 5,
     "metadata": {},
     "output_type": "execute_result"
    }
   ],
   "source": [
    "(56.98 - 50.4)/sqrt((17.4/34)+(14.1/34))"
   ]
  },
  {
   "cell_type": "code",
   "execution_count": null,
   "metadata": {},
   "outputs": [],
   "source": []
  }
 ],
 "metadata": {
  "kernelspec": {
   "display_name": "Python 3",
   "language": "python",
   "name": "python3"
  },
  "language_info": {
   "codemirror_mode": {
    "name": "ipython",
    "version": 3
   },
   "file_extension": ".py",
   "mimetype": "text/x-python",
   "name": "python",
   "nbconvert_exporter": "python",
   "pygments_lexer": "ipython3",
   "version": "3.8.5"
  }
 },
 "nbformat": 4,
 "nbformat_minor": 4
}
