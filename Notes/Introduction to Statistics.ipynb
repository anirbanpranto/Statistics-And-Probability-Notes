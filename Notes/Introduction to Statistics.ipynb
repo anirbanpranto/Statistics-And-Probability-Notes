{
 "cells": [
  {
   "cell_type": "code",
   "execution_count": 2,
   "metadata": {},
   "outputs": [
    {
     "name": "stdout",
     "output_type": "stream",
     "text": [
      "Welcome to my statistics notes, I hope they'll help you\n"
     ]
    }
   ],
   "source": [
    "print(\"Welcome to my statistics notes, I hope they'll help you\")"
   ]
  },
  {
   "cell_type": "markdown",
   "metadata": {},
   "source": [
    "### Population and Sample\n",
    "Before starting other stuff, we really need to understand the meaning of population and sample. Suppose, you have selected 10 students at random from your school and measured their weight. These 10 people represent all the students in your school, which makes them a sample of size 10, and all the students at your school are the popualation."
   ]
  },
  {
   "cell_type": "markdown",
   "metadata": {},
   "source": [
    "Imagine we have some ungrouped data about the weights of all MacDonald's burger variations. There are 10 bugers and we have their weights in grams. Their weights are,\n",
    "$$150, 120, 230, 70, 110, 90, 92, 130, 122, 120$$\n",
    "You need to find -\n",
    "* The mean\n",
    "* The mode\n",
    "* The median\n",
    "* The standard deviation"
   ]
  },
  {
   "cell_type": "markdown",
   "metadata": {},
   "source": [
    "### Mean\n",
    "Mean is really important, and all it means is the average. How do you find the mean? You add all the samples and simply divide them with the sample size. But there are other ways to do it too.\n",
    "The formula for sample mean is,\n",
    "$$\\overline{x} = \\frac{\\sum{xi}}{n}$$"
   ]
  },
  {
   "cell_type": "code",
   "execution_count": 1,
   "metadata": {},
   "outputs": [],
   "source": [
    "import numpy as np\n",
    "data = [150,120,230,70,110,90,92,130,122,120]\n",
    "sum = np.sum(data)"
   ]
  },
  {
   "cell_type": "code",
   "execution_count": 8,
   "metadata": {},
   "outputs": [],
   "source": [
    "mean = sum/10"
   ]
  },
  {
   "cell_type": "code",
   "execution_count": 9,
   "metadata": {},
   "outputs": [
    {
     "data": {
      "text/plain": [
       "123.4"
      ]
     },
     "execution_count": 9,
     "metadata": {},
     "output_type": "execute_result"
    }
   ],
   "source": [
    "mean"
   ]
  },
  {
   "cell_type": "markdown",
   "metadata": {},
   "source": [
    "So, the mean is 123.4\n",
    "Now let's sort the data first. Which will make the it easier to answer the next questions."
   ]
  },
  {
   "cell_type": "code",
   "execution_count": 11,
   "metadata": {},
   "outputs": [],
   "source": [
    "data.sort()"
   ]
  },
  {
   "cell_type": "code",
   "execution_count": 12,
   "metadata": {},
   "outputs": [
    {
     "data": {
      "text/plain": [
       "[70, 90, 92, 110, 120, 120, 122, 130, 150, 230]"
      ]
     },
     "execution_count": 12,
     "metadata": {},
     "output_type": "execute_result"
    }
   ],
   "source": [
    "data"
   ]
  },
  {
   "cell_type": "markdown",
   "metadata": {},
   "source": [
    "Here the ***Mode*** is the most freqent value. The only repeated value here is 120, so it is our mode. But mode can be several values in a dataset.<br/>\n",
    "The ***Median*** is the middle value of the sorted data. Here we can see the sample size $n$ is even, so no middle value. So we take the two value in the middle, $\\frac{n}{2}$ and $\\frac{n}{2} + 1$ and find their average. Which is 120 in this case."
   ]
  },
  {
   "cell_type": "markdown",
   "metadata": {},
   "source": [
    "### Variance and Standard Deviation\n",
    "Variance is the average of how far the observations are from the mean of a dataset. Standard Deviation is the square root of the variance. It is the measure of spread of the data. When we see the formula for calculating this it will be much more clearer. The sample variance is -\n",
    "$$s^2 = \\frac{\\sum{(x_i-\\bar{x})^2}}{n-1}$$\n",
    "The sample standard deviation is,\n",
    "$$s = \\sqrt{\\frac{\\sum{(x_i-\\bar{x})^2}}{n-1}}$$\n",
    "As we can see, for every $x_i$ value we are finding it's difference with our $\\bar{x}$(**mean**) and then we find the average of it. Square root of it gives us the standard deviation"
   ]
  },
  {
   "cell_type": "markdown",
   "metadata": {},
   "source": [
    "Let's calculate the standard deviation of our above example."
   ]
  },
  {
   "cell_type": "code",
   "execution_count": 7,
   "metadata": {},
   "outputs": [],
   "source": [
    "import math\n",
    "from math import sqrt\n",
    "def variance(data, mean, n):\n",
    "    total = 0\n",
    "    for x_i in data:\n",
    "        total += (x_i - mean)**2\n",
    "    return total/(n - 1)\n",
    "\n",
    "def stdev(data, mean, n):\n",
    "    return sqrt(variance(data, mean, n))"
   ]
  },
  {
   "cell_type": "code",
   "execution_count": 17,
   "metadata": {},
   "outputs": [
    {
     "data": {
      "text/plain": [
       "1919.1555555555558"
      ]
     },
     "execution_count": 17,
     "metadata": {},
     "output_type": "execute_result"
    }
   ],
   "source": [
    "variance(data, mean, 10)"
   ]
  },
  {
   "cell_type": "code",
   "execution_count": 21,
   "metadata": {},
   "outputs": [
    {
     "data": {
      "text/plain": [
       "43.8081676808738"
      ]
     },
     "execution_count": 21,
     "metadata": {},
     "output_type": "execute_result"
    }
   ],
   "source": [
    "s = stdev(data, mean, 10)\n",
    "s"
   ]
  },
  {
   "cell_type": "code",
   "execution_count": 22,
   "metadata": {},
   "outputs": [
    {
     "data": {
      "text/plain": [
       "True"
      ]
     },
     "execution_count": 22,
     "metadata": {},
     "output_type": "execute_result"
    }
   ],
   "source": [
    "s == sqrt(1919.1555555555558)"
   ]
  },
  {
   "cell_type": "markdown",
   "metadata": {},
   "source": [
    "### Personal Workings\n",
    "These are my personal workings from problem sets of my school. Ignore these as most of these are not gonna make any sense."
   ]
  },
  {
   "cell_type": "code",
   "execution_count": 23,
   "metadata": {},
   "outputs": [],
   "source": [
    "data = [94,110,70,115,122,99,86,103,80,91]\n",
    "n = 10"
   ]
  },
  {
   "cell_type": "code",
   "execution_count": 24,
   "metadata": {},
   "outputs": [],
   "source": [
    "sum = np.sum(data)"
   ]
  },
  {
   "cell_type": "code",
   "execution_count": 28,
   "metadata": {},
   "outputs": [
    {
     "data": {
      "text/plain": [
       "97.0"
      ]
     },
     "execution_count": 28,
     "metadata": {},
     "output_type": "execute_result"
    }
   ],
   "source": [
    "mean = sum/n\n",
    "mean"
   ]
  },
  {
   "cell_type": "code",
   "execution_count": 27,
   "metadata": {},
   "outputs": [
    {
     "data": {
      "text/plain": [
       "16.131404843417148"
      ]
     },
     "execution_count": 27,
     "metadata": {},
     "output_type": "execute_result"
    }
   ],
   "source": [
    "stdev(data, mean, n)"
   ]
  },
  {
   "cell_type": "code",
   "execution_count": 14,
   "metadata": {},
   "outputs": [
    {
     "data": {
      "text/plain": [
       "96.552058496958"
      ]
     },
     "execution_count": 14,
     "metadata": {},
     "output_type": "execute_result"
    }
   ],
   "source": [
    "import math\n",
    "from math import sqrt\n",
    "data = [638, 845, 649, 658, 798]\n",
    "random = 0\n",
    "for x in data:\n",
    "    random += (x-717.6)**2\n",
    "sqrt(random/(5-1))"
   ]
  },
  {
   "cell_type": "code",
   "execution_count": 9,
   "metadata": {},
   "outputs": [
    {
     "data": {
      "text/plain": [
       "59.95955237271883"
      ]
     },
     "execution_count": 9,
     "metadata": {},
     "output_type": "execute_result"
    }
   ],
   "source": [
    "stdev(data, 5, 717.6)"
   ]
  },
  {
   "cell_type": "code",
   "execution_count": 11,
   "metadata": {},
   "outputs": [
    {
     "data": {
      "text/plain": [
       "43.178472645520934"
      ]
     },
     "execution_count": 11,
     "metadata": {},
     "output_type": "execute_result"
    }
   ],
   "source": [
    "96.55/sqrt(5)"
   ]
  },
  {
   "cell_type": "code",
   "execution_count": 12,
   "metadata": {},
   "outputs": [
    {
     "data": {
      "text/plain": [
       "0.8276"
      ]
     },
     "execution_count": 12,
     "metadata": {},
     "output_type": "execute_result"
    }
   ],
   "source": [
    "0.8944-0.0668"
   ]
  },
  {
   "cell_type": "code",
   "execution_count": 13,
   "metadata": {},
   "outputs": [
    {
     "data": {
      "text/plain": [
       "206.9"
      ]
     },
     "execution_count": 13,
     "metadata": {},
     "output_type": "execute_result"
    }
   ],
   "source": [
    "0.8276*250"
   ]
  },
  {
   "cell_type": "code",
   "execution_count": 20,
   "metadata": {},
   "outputs": [
    {
     "data": {
      "text/plain": [
       "96.552058496958"
      ]
     },
     "execution_count": 20,
     "metadata": {},
     "output_type": "execute_result"
    }
   ],
   "source": [
    "total = 0\n",
    "data = [638, 845, 649, 658, 798]\n",
    "for x in data:\n",
    "    total += (x-717.6)**2\n",
    "sqrt(total/4)"
   ]
  },
  {
   "cell_type": "code",
   "execution_count": null,
   "metadata": {},
   "outputs": [],
   "source": []
  }
 ],
 "metadata": {
  "kernelspec": {
   "display_name": "Python 3",
   "language": "python",
   "name": "python3"
  },
  "language_info": {
   "codemirror_mode": {
    "name": "ipython",
    "version": 3
   },
   "file_extension": ".py",
   "mimetype": "text/x-python",
   "name": "python",
   "nbconvert_exporter": "python",
   "pygments_lexer": "ipython3",
   "version": "3.8.5"
  }
 },
 "nbformat": 4,
 "nbformat_minor": 4
}
